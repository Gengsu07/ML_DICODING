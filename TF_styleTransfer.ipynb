{
 "cells": [
  {
   "cell_type": "code",
   "execution_count": 42,
   "metadata": {},
   "outputs": [],
   "source": [
    "import tensorflow as tf\n",
    "import numpy as np"
   ]
  },
  {
   "attachments": {},
   "cell_type": "markdown",
   "metadata": {},
   "source": [
    "### Buat Function untuk convert image->tensor dan tensor->image"
   ]
  },
  {
   "cell_type": "code",
   "execution_count": 43,
   "metadata": {},
   "outputs": [],
   "source": [
    "def tensor_to_img(tensor):\n",
    "    tensot = tensor*255\n",
    "    tensor = np.array(tensor, dtype = np.uint8)\n",
    "    if np.ndim(tensor)>3:\n",
    "        assert tensor.shape[0] == 1\n",
    "        tensor = tensor[0]\n",
    "    return PIL.Image.fromarray(tensor)"
   ]
  },
  {
   "attachments": {},
   "cell_type": "markdown",
   "metadata": {},
   "source": [
    "model yang akan kita pakai dari tensorflow hub juga menerima masukan berupa tensor. Sehingga kita harus mengubah gambar yang akan kita pakai menjadi tensor terlebih dahulu"
   ]
  },
  {
   "cell_type": "code",
   "execution_count": 44,
   "metadata": {},
   "outputs": [],
   "source": [
    "def img_to_tensor(path_img):\n",
    "    img = tf.io.read_file(path_img)\n",
    "    img = tf.image.decode_image(img, channels=3, dtype=tf.float32)\n",
    "\n",
    "        # Resize the image to specific dimensions\n",
    "    img = tf.image.resize(img, [512, 512])\n",
    "    # img = tf.cast(img*255, tf.uint8)\n",
    "    img = img[tf.newaxis,:]\n",
    "    return img"
   ]
  },
  {
   "attachments": {},
   "cell_type": "markdown",
   "metadata": {},
   "source": [
    "### Input image apa saja untuk dikombinasikan"
   ]
  },
  {
   "cell_type": "code",
   "execution_count": 46,
   "metadata": {},
   "outputs": [],
   "source": [
    "djp_tensor = img_to_tensor('datasets/djp.jpg')\n",
    "style_tensor = img_to_tensor('datasets/smoke_sky.jpg')"
   ]
  },
  {
   "attachments": {},
   "cell_type": "markdown",
   "metadata": {},
   "source": [
    "Terakhir, jalankan kode di bawah untuk melakukan style transfer pada gambar kita dan menampilkan hasilnya."
   ]
  },
  {
   "cell_type": "code",
   "execution_count": 52,
   "metadata": {},
   "outputs": [
    {
     "ename": "ModuleNotFoundError",
     "evalue": "No module named 'functiools'",
     "output_type": "error",
     "traceback": [
      "\u001b[0;31m---------------------------------------------------------------------------\u001b[0m",
      "\u001b[0;31mModuleNotFoundError\u001b[0m                       Traceback (most recent call last)",
      "Cell \u001b[0;32mIn[52], line 4\u001b[0m\n\u001b[1;32m      2\u001b[0m \u001b[39mimport\u001b[39;00m \u001b[39mPIL\u001b[39;00m\u001b[39m.\u001b[39;00m\u001b[39mImage\u001b[39;00m\n\u001b[1;32m      3\u001b[0m \u001b[39mimport\u001b[39;00m \u001b[39mtime\u001b[39;00m\n\u001b[0;32m----> 4\u001b[0m \u001b[39mimport\u001b[39;00m \u001b[39mfunctiools\u001b[39;00m\n\u001b[1;32m      5\u001b[0m hub_module \u001b[39m=\u001b[39m hub\u001b[39m.\u001b[39mload(\u001b[39m'\u001b[39m\u001b[39mhttps://tfhub.dev/google/magenta/arbitrary-image-stylization-v1-256/1\u001b[39m\u001b[39m'\u001b[39m)\n",
      "\u001b[0;31mModuleNotFoundError\u001b[0m: No module named 'functiools'"
     ]
    }
   ],
   "source": [
    "import tensorflow_hub as hub\n",
    "import PIL.Image\n",
    "import time\n",
    "import functiools\n",
    "hub_module = hub.load('https://tfhub.dev/google/magenta/arbitrary-image-stylization-v1-256/1')"
   ]
  },
  {
   "cell_type": "code",
   "execution_count": 51,
   "metadata": {},
   "outputs": [
    {
     "name": "stdout",
     "output_type": "stream",
     "text": [
      "Collecting functools\n",
      "  Downloading functools-0.5.tar.gz (4.9 kB)\n",
      "  Preparing metadata (setup.py) ... \u001b[?25ldone\n",
      "\u001b[?25hBuilding wheels for collected packages: functools\n",
      "  Building wheel for functools (setup.py) ... \u001b[?25lerror\n",
      "  \u001b[1;31merror\u001b[0m: \u001b[1msubprocess-exited-with-error\u001b[0m\n",
      "  \n",
      "  \u001b[31m×\u001b[0m \u001b[32mpython setup.py bdist_wheel\u001b[0m did not run successfully.\n",
      "  \u001b[31m│\u001b[0m exit code: \u001b[1;36m1\u001b[0m\n",
      "  \u001b[31m╰─>\u001b[0m \u001b[31m[68 lines of output]\u001b[0m\n",
      "  \u001b[31m   \u001b[0m running bdist_wheel\n",
      "  \u001b[31m   \u001b[0m running build\n",
      "  \u001b[31m   \u001b[0m running build_py\n",
      "  \u001b[31m   \u001b[0m creating build\n",
      "  \u001b[31m   \u001b[0m creating build/lib.macosx-10.9-x86_64-cpython-39\n",
      "  \u001b[31m   \u001b[0m copying functools.py -> build/lib.macosx-10.9-x86_64-cpython-39\n",
      "  \u001b[31m   \u001b[0m running build_ext\n",
      "  \u001b[31m   \u001b[0m building '_functools' extension\n",
      "  \u001b[31m   \u001b[0m creating build/temp.macosx-10.9-x86_64-cpython-39\n",
      "  \u001b[31m   \u001b[0m creating build/temp.macosx-10.9-x86_64-cpython-39/src\n",
      "  \u001b[31m   \u001b[0m clang -Wno-unused-result -Wsign-compare -Wunreachable-code -DNDEBUG -fwrapv -O2 -Wall -fPIC -O2 -isystem /Users/sugengw07/opt/anaconda3/include -arch x86_64 -I/Users/sugengw07/opt/anaconda3/include -fPIC -O2 -isystem /Users/sugengw07/opt/anaconda3/include -arch x86_64 -I/Users/sugengw07/opt/anaconda3/include/python3.9 -c src/compose.c -o build/temp.macosx-10.9-x86_64-cpython-39/src/compose.o\n",
      "  \u001b[31m   \u001b[0m src/compose.c:96:6: error: no member named 'ob_type' in 'struct compose'\n",
      "  \u001b[31m   \u001b[0m         co->ob_type->tp_free(co);\n",
      "  \u001b[31m   \u001b[0m         ~~  ^\n",
      "  \u001b[31m   \u001b[0m src/compose.c:137:6: error: implicit declaration of function 'PyString_FromFormat' is invalid in C99 [-Werror,-Wimplicit-function-declaration]\n",
      "  \u001b[31m   \u001b[0m         s = PyString_FromFormat(\"<composition on %s at %p>\",\n",
      "  \u001b[31m   \u001b[0m             ^\n",
      "  \u001b[31m   \u001b[0m src/compose.c:137:6: note: did you mean 'PyBytes_FromFormat'?\n",
      "  \u001b[31m   \u001b[0m /Users/sugengw07/opt/anaconda3/include/python3.9/bytesobject.h:42:24: note: 'PyBytes_FromFormat' declared here\n",
      "  \u001b[31m   \u001b[0m PyAPI_FUNC(PyObject *) PyBytes_FromFormat(const char*, ...)\n",
      "  \u001b[31m   \u001b[0m                        ^\n",
      "  \u001b[31m   \u001b[0m src/compose.c:138:6: error: implicit declaration of function 'PyString_AsString' is invalid in C99 [-Werror,-Wimplicit-function-declaration]\n",
      "  \u001b[31m   \u001b[0m             PyString_AsString(grepr), (void *)co);\n",
      "  \u001b[31m   \u001b[0m             ^\n",
      "  \u001b[31m   \u001b[0m src/compose.c:137:4: warning: incompatible integer to pointer conversion assigning to 'PyObject *' (aka 'struct _object *') from 'int' [-Wint-conversion]\n",
      "  \u001b[31m   \u001b[0m         s = PyString_FromFormat(\"<composition on %s at %p>\",\n",
      "  \u001b[31m   \u001b[0m           ^ ~~~~~~~~~~~~~~~~~~~~~~~~~~~~~~~~~~~~~~~~~~~~~~~~\n",
      "  \u001b[31m   \u001b[0m src/compose.c:144:2: warning: suggest braces around initialization of subobject [-Wmissing-braces]\n",
      "  \u001b[31m   \u001b[0m         PyObject_HEAD_INIT(NULL)\n",
      "  \u001b[31m   \u001b[0m         ^~~~~~~~~~~~~~~~~~~~~~~~\n",
      "  \u001b[31m   \u001b[0m /Users/sugengw07/opt/anaconda3/include/python3.9/object.h:86:5: note: expanded from macro 'PyObject_HEAD_INIT'\n",
      "  \u001b[31m   \u001b[0m     1, type },\n",
      "  \u001b[31m   \u001b[0m     ^~~~~~~\n",
      "  \u001b[31m   \u001b[0m src/compose.c:146:2: warning: incompatible pointer to integer conversion initializing 'Py_ssize_t' (aka 'long') with an expression of type 'char[8]' [-Wint-conversion]\n",
      "  \u001b[31m   \u001b[0m         \"compose\",                      /* tp_name */\n",
      "  \u001b[31m   \u001b[0m         ^~~~~~~~~\n",
      "  \u001b[31m   \u001b[0m src/compose.c:150:2: warning: incompatible pointer to integer conversion initializing 'Py_ssize_t' (aka 'long') with an expression of type 'destructor' (aka 'void (*)(struct _object *)') [-Wint-conversion]\n",
      "  \u001b[31m   \u001b[0m         (destructor)compose_dealloc,    /* tp_dealloc */\n",
      "  \u001b[31m   \u001b[0m         ^~~~~~~~~~~~~~~~~~~~~~~~~~~\n",
      "  \u001b[31m   \u001b[0m src/compose.c:155:2: warning: incompatible pointer types initializing 'PyNumberMethods *' with an expression of type 'reprfunc' (aka 'struct _object *(*)(struct _object *)') [-Wincompatible-pointer-types]\n",
      "  \u001b[31m   \u001b[0m         (reprfunc)compose_repr,         /* tp_repr */\n",
      "  \u001b[31m   \u001b[0m         ^~~~~~~~~~~~~~~~~~~~~~\n",
      "  \u001b[31m   \u001b[0m src/compose.c:160:2: warning: incompatible function pointer types initializing 'reprfunc' (aka 'struct _object *(*)(struct _object *)') with an expression of type 'ternaryfunc' (aka 'struct _object *(*)(struct _object *, struct _object *, struct _object *)') [-Wincompatible-function-pointer-types]\n",
      "  \u001b[31m   \u001b[0m         (ternaryfunc)compose_call,      /* tp_call */\n",
      "  \u001b[31m   \u001b[0m         ^~~~~~~~~~~~~~~~~~~~~~~~~\n",
      "  \u001b[31m   \u001b[0m src/compose.c:165:2: warning: incompatible integer to pointer conversion initializing 'const char *' with an expression of type 'unsigned long' [-Wint-conversion]\n",
      "  \u001b[31m   \u001b[0m         Py_TPFLAGS_DEFAULT | Py_TPFLAGS_HAVE_GC |\n",
      "  \u001b[31m   \u001b[0m         ^~~~~~~~~~~~~~~~~~~~~~~~~~~~~~~~~~~~~~~~~\n",
      "  \u001b[31m   \u001b[0m /Users/sugengw07/opt/anaconda3/include/python3.9/object.h:350:29: note: expanded from macro 'Py_TPFLAGS_DEFAULT'\n",
      "  \u001b[31m   \u001b[0m #define Py_TPFLAGS_DEFAULT  ( \\\n",
      "  \u001b[31m   \u001b[0m                             ^\n",
      "  \u001b[31m   \u001b[0m src/compose.c:167:2: warning: incompatible pointer types initializing 'traverseproc' (aka 'int (*)(struct _object *, int (*)(struct _object *, void *), void *)') with an expression of type 'const char[372]' [-Wincompatible-pointer-types]\n",
      "  \u001b[31m   \u001b[0m         compose_doc,                    /* tp_doc */\n",
      "  \u001b[31m   \u001b[0m         ^~~~~~~~~~~\n",
      "  \u001b[31m   \u001b[0m src/compose.c:168:2: warning: incompatible function pointer types initializing 'inquiry' (aka 'int (*)(struct _object *)') with an expression of type 'traverseproc' (aka 'int (*)(struct _object *, int (*)(struct _object *, void *), void *)') [-Wincompatible-function-pointer-types]\n",
      "  \u001b[31m   \u001b[0m         (traverseproc)compose_traverse, /* tp_traverse */\n",
      "  \u001b[31m   \u001b[0m         ^~~~~~~~~~~~~~~~~~~~~~~~~~~~~~\n",
      "  \u001b[31m   \u001b[0m src/compose.c:179:2: warning: incompatible function pointer types initializing 'descrsetfunc' (aka 'int (*)(struct _object *, struct _object *, struct _object *)') with an expression of type 'PyObject *(PyObject *, PyObject *)' (aka 'struct _object *(struct _object *, struct _object *)') [-Wincompatible-function-pointer-types]\n",
      "  \u001b[31m   \u001b[0m         PyMethod_New,                   /* tp_descr_get */\n",
      "  \u001b[31m   \u001b[0m         ^~~~~~~~~~~~\n",
      "  \u001b[31m   \u001b[0m src/compose.c:184:2: warning: incompatible function pointer types initializing 'freefunc' (aka 'void (*)(void *)') with an expression of type 'PyObject *(PyTypeObject *, PyObject *, PyObject *)' (aka 'struct _object *(struct _typeobject *, struct _object *, struct _object *)') [-Wincompatible-function-pointer-types]\n",
      "  \u001b[31m   \u001b[0m         compose_new,                    /* tp_new */\n",
      "  \u001b[31m   \u001b[0m         ^~~~~~~~~~~\n",
      "  \u001b[31m   \u001b[0m src/compose.c:185:2: warning: incompatible function pointer types initializing 'inquiry' (aka 'int (*)(struct _object *)') with an expression of type 'void (void *)' [-Wincompatible-function-pointer-types]\n",
      "  \u001b[31m   \u001b[0m         PyObject_GC_Del,                /* tp_free */\n",
      "  \u001b[31m   \u001b[0m         ^~~~~~~~~~~~~~~\n",
      "  \u001b[31m   \u001b[0m 12 warnings and 3 errors generated.\n",
      "  \u001b[31m   \u001b[0m error: command '/usr/bin/clang' failed with exit code 1\n",
      "  \u001b[31m   \u001b[0m \u001b[31m[end of output]\u001b[0m\n",
      "  \n",
      "  \u001b[1;35mnote\u001b[0m: This error originates from a subprocess, and is likely not a problem with pip.\n",
      "\u001b[31m  ERROR: Failed building wheel for functools\u001b[0m\u001b[31m\n",
      "\u001b[0m\u001b[?25h  Running setup.py clean for functools\n",
      "Failed to build functools\n",
      "Installing collected packages: functools\n",
      "  Running setup.py install for functools ... \u001b[?25lerror\n",
      "  \u001b[1;31merror\u001b[0m: \u001b[1msubprocess-exited-with-error\u001b[0m\n",
      "  \n",
      "  \u001b[31m×\u001b[0m \u001b[32mRunning setup.py install for functools\u001b[0m did not run successfully.\n",
      "  \u001b[31m│\u001b[0m exit code: \u001b[1;36m1\u001b[0m\n",
      "  \u001b[31m╰─>\u001b[0m \u001b[31m[70 lines of output]\u001b[0m\n",
      "  \u001b[31m   \u001b[0m running install\n",
      "  \u001b[31m   \u001b[0m /Users/sugengw07/opt/anaconda3/lib/python3.9/site-packages/setuptools/command/install.py:34: SetuptoolsDeprecationWarning: setup.py install is deprecated. Use build and pip and other standards-based tools.\n",
      "  \u001b[31m   \u001b[0m   warnings.warn(\n",
      "  \u001b[31m   \u001b[0m running build\n",
      "  \u001b[31m   \u001b[0m running build_py\n",
      "  \u001b[31m   \u001b[0m creating build\n",
      "  \u001b[31m   \u001b[0m creating build/lib.macosx-10.9-x86_64-cpython-39\n",
      "  \u001b[31m   \u001b[0m copying functools.py -> build/lib.macosx-10.9-x86_64-cpython-39\n",
      "  \u001b[31m   \u001b[0m running build_ext\n",
      "  \u001b[31m   \u001b[0m building '_functools' extension\n",
      "  \u001b[31m   \u001b[0m creating build/temp.macosx-10.9-x86_64-cpython-39\n",
      "  \u001b[31m   \u001b[0m creating build/temp.macosx-10.9-x86_64-cpython-39/src\n",
      "  \u001b[31m   \u001b[0m clang -Wno-unused-result -Wsign-compare -Wunreachable-code -DNDEBUG -fwrapv -O2 -Wall -fPIC -O2 -isystem /Users/sugengw07/opt/anaconda3/include -arch x86_64 -I/Users/sugengw07/opt/anaconda3/include -fPIC -O2 -isystem /Users/sugengw07/opt/anaconda3/include -arch x86_64 -I/Users/sugengw07/opt/anaconda3/include/python3.9 -c src/compose.c -o build/temp.macosx-10.9-x86_64-cpython-39/src/compose.o\n",
      "  \u001b[31m   \u001b[0m src/compose.c:96:6: error: no member named 'ob_type' in 'struct compose'\n",
      "  \u001b[31m   \u001b[0m         co->ob_type->tp_free(co);\n",
      "  \u001b[31m   \u001b[0m         ~~  ^\n",
      "  \u001b[31m   \u001b[0m src/compose.c:137:6: error: implicit declaration of function 'PyString_FromFormat' is invalid in C99 [-Werror,-Wimplicit-function-declaration]\n",
      "  \u001b[31m   \u001b[0m         s = PyString_FromFormat(\"<composition on %s at %p>\",\n",
      "  \u001b[31m   \u001b[0m             ^\n",
      "  \u001b[31m   \u001b[0m src/compose.c:137:6: note: did you mean 'PyBytes_FromFormat'?\n",
      "  \u001b[31m   \u001b[0m /Users/sugengw07/opt/anaconda3/include/python3.9/bytesobject.h:42:24: note: 'PyBytes_FromFormat' declared here\n",
      "  \u001b[31m   \u001b[0m PyAPI_FUNC(PyObject *) PyBytes_FromFormat(const char*, ...)\n",
      "  \u001b[31m   \u001b[0m                        ^\n",
      "  \u001b[31m   \u001b[0m src/compose.c:138:6: error: implicit declaration of function 'PyString_AsString' is invalid in C99 [-Werror,-Wimplicit-function-declaration]\n",
      "  \u001b[31m   \u001b[0m             PyString_AsString(grepr), (void *)co);\n",
      "  \u001b[31m   \u001b[0m             ^\n",
      "  \u001b[31m   \u001b[0m src/compose.c:137:4: warning: incompatible integer to pointer conversion assigning to 'PyObject *' (aka 'struct _object *') from 'int' [-Wint-conversion]\n",
      "  \u001b[31m   \u001b[0m         s = PyString_FromFormat(\"<composition on %s at %p>\",\n",
      "  \u001b[31m   \u001b[0m           ^ ~~~~~~~~~~~~~~~~~~~~~~~~~~~~~~~~~~~~~~~~~~~~~~~~\n",
      "  \u001b[31m   \u001b[0m src/compose.c:144:2: warning: suggest braces around initialization of subobject [-Wmissing-braces]\n",
      "  \u001b[31m   \u001b[0m         PyObject_HEAD_INIT(NULL)\n",
      "  \u001b[31m   \u001b[0m         ^~~~~~~~~~~~~~~~~~~~~~~~\n",
      "  \u001b[31m   \u001b[0m /Users/sugengw07/opt/anaconda3/include/python3.9/object.h:86:5: note: expanded from macro 'PyObject_HEAD_INIT'\n",
      "  \u001b[31m   \u001b[0m     1, type },\n",
      "  \u001b[31m   \u001b[0m     ^~~~~~~\n",
      "  \u001b[31m   \u001b[0m src/compose.c:146:2: warning: incompatible pointer to integer conversion initializing 'Py_ssize_t' (aka 'long') with an expression of type 'char[8]' [-Wint-conversion]\n",
      "  \u001b[31m   \u001b[0m         \"compose\",                      /* tp_name */\n",
      "  \u001b[31m   \u001b[0m         ^~~~~~~~~\n",
      "  \u001b[31m   \u001b[0m src/compose.c:150:2: warning: incompatible pointer to integer conversion initializing 'Py_ssize_t' (aka 'long') with an expression of type 'destructor' (aka 'void (*)(struct _object *)') [-Wint-conversion]\n",
      "  \u001b[31m   \u001b[0m         (destructor)compose_dealloc,    /* tp_dealloc */\n",
      "  \u001b[31m   \u001b[0m         ^~~~~~~~~~~~~~~~~~~~~~~~~~~\n",
      "  \u001b[31m   \u001b[0m src/compose.c:155:2: warning: incompatible pointer types initializing 'PyNumberMethods *' with an expression of type 'reprfunc' (aka 'struct _object *(*)(struct _object *)') [-Wincompatible-pointer-types]\n",
      "  \u001b[31m   \u001b[0m         (reprfunc)compose_repr,         /* tp_repr */\n",
      "  \u001b[31m   \u001b[0m         ^~~~~~~~~~~~~~~~~~~~~~\n",
      "  \u001b[31m   \u001b[0m src/compose.c:160:2: warning: incompatible function pointer types initializing 'reprfunc' (aka 'struct _object *(*)(struct _object *)') with an expression of type 'ternaryfunc' (aka 'struct _object *(*)(struct _object *, struct _object *, struct _object *)') [-Wincompatible-function-pointer-types]\n",
      "  \u001b[31m   \u001b[0m         (ternaryfunc)compose_call,      /* tp_call */\n",
      "  \u001b[31m   \u001b[0m         ^~~~~~~~~~~~~~~~~~~~~~~~~\n",
      "  \u001b[31m   \u001b[0m src/compose.c:165:2: warning: incompatible integer to pointer conversion initializing 'const char *' with an expression of type 'unsigned long' [-Wint-conversion]\n",
      "  \u001b[31m   \u001b[0m         Py_TPFLAGS_DEFAULT | Py_TPFLAGS_HAVE_GC |\n",
      "  \u001b[31m   \u001b[0m         ^~~~~~~~~~~~~~~~~~~~~~~~~~~~~~~~~~~~~~~~~\n",
      "  \u001b[31m   \u001b[0m /Users/sugengw07/opt/anaconda3/include/python3.9/object.h:350:29: note: expanded from macro 'Py_TPFLAGS_DEFAULT'\n",
      "  \u001b[31m   \u001b[0m #define Py_TPFLAGS_DEFAULT  ( \\\n",
      "  \u001b[31m   \u001b[0m                             ^\n",
      "  \u001b[31m   \u001b[0m src/compose.c:167:2: warning: incompatible pointer types initializing 'traverseproc' (aka 'int (*)(struct _object *, int (*)(struct _object *, void *), void *)') with an expression of type 'const char[372]' [-Wincompatible-pointer-types]\n",
      "  \u001b[31m   \u001b[0m         compose_doc,                    /* tp_doc */\n",
      "  \u001b[31m   \u001b[0m         ^~~~~~~~~~~\n",
      "  \u001b[31m   \u001b[0m src/compose.c:168:2: warning: incompatible function pointer types initializing 'inquiry' (aka 'int (*)(struct _object *)') with an expression of type 'traverseproc' (aka 'int (*)(struct _object *, int (*)(struct _object *, void *), void *)') [-Wincompatible-function-pointer-types]\n",
      "  \u001b[31m   \u001b[0m         (traverseproc)compose_traverse, /* tp_traverse */\n",
      "  \u001b[31m   \u001b[0m         ^~~~~~~~~~~~~~~~~~~~~~~~~~~~~~\n",
      "  \u001b[31m   \u001b[0m src/compose.c:179:2: warning: incompatible function pointer types initializing 'descrsetfunc' (aka 'int (*)(struct _object *, struct _object *, struct _object *)') with an expression of type 'PyObject *(PyObject *, PyObject *)' (aka 'struct _object *(struct _object *, struct _object *)') [-Wincompatible-function-pointer-types]\n",
      "  \u001b[31m   \u001b[0m         PyMethod_New,                   /* tp_descr_get */\n",
      "  \u001b[31m   \u001b[0m         ^~~~~~~~~~~~\n",
      "  \u001b[31m   \u001b[0m src/compose.c:184:2: warning: incompatible function pointer types initializing 'freefunc' (aka 'void (*)(void *)') with an expression of type 'PyObject *(PyTypeObject *, PyObject *, PyObject *)' (aka 'struct _object *(struct _typeobject *, struct _object *, struct _object *)') [-Wincompatible-function-pointer-types]\n",
      "  \u001b[31m   \u001b[0m         compose_new,                    /* tp_new */\n",
      "  \u001b[31m   \u001b[0m         ^~~~~~~~~~~\n",
      "  \u001b[31m   \u001b[0m src/compose.c:185:2: warning: incompatible function pointer types initializing 'inquiry' (aka 'int (*)(struct _object *)') with an expression of type 'void (void *)' [-Wincompatible-function-pointer-types]\n",
      "  \u001b[31m   \u001b[0m         PyObject_GC_Del,                /* tp_free */\n",
      "  \u001b[31m   \u001b[0m         ^~~~~~~~~~~~~~~\n",
      "  \u001b[31m   \u001b[0m 12 warnings and 3 errors generated.\n",
      "  \u001b[31m   \u001b[0m error: command '/usr/bin/clang' failed with exit code 1\n",
      "  \u001b[31m   \u001b[0m \u001b[31m[end of output]\u001b[0m\n",
      "  \n",
      "  \u001b[1;35mnote\u001b[0m: This error originates from a subprocess, and is likely not a problem with pip.\n",
      "\u001b[?25h\u001b[1;31merror\u001b[0m: \u001b[1mlegacy-install-failure\u001b[0m\n",
      "\n",
      "\u001b[31m×\u001b[0m Encountered error while trying to install package.\n",
      "\u001b[31m╰─>\u001b[0m functools\n",
      "\n",
      "\u001b[1;35mnote\u001b[0m: This is an issue with the package mentioned above, not pip.\n",
      "\u001b[1;36mhint\u001b[0m: See above for output from the failure.\n"
     ]
    }
   ],
   "source": [
    "!pip install functools"
   ]
  },
  {
   "cell_type": "code",
   "execution_count": null,
   "metadata": {},
   "outputs": [],
   "source": [
    "styled_image = hub_module(tf.constant(djp_tensor), tf.constant(style_tensor))[0]"
   ]
  }
 ],
 "metadata": {
  "kernelspec": {
   "display_name": "base",
   "language": "python",
   "name": "python3"
  },
  "language_info": {
   "codemirror_mode": {
    "name": "ipython",
    "version": 3
   },
   "file_extension": ".py",
   "mimetype": "text/x-python",
   "name": "python",
   "nbconvert_exporter": "python",
   "pygments_lexer": "ipython3",
   "version": "3.9.7"
  },
  "orig_nbformat": 4
 },
 "nbformat": 4,
 "nbformat_minor": 2
}
